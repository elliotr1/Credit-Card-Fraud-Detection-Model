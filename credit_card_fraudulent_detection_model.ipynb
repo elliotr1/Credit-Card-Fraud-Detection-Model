{
  "metadata": {
    "kernelspec": {
      "language": "python",
      "display_name": "Python 3",
      "name": "python3"
    },
    "language_info": {
      "name": "python",
      "version": "3.10.13",
      "mimetype": "text/x-python",
      "codemirror_mode": {
        "name": "ipython",
        "version": 3
      },
      "pygments_lexer": "ipython3",
      "nbconvert_exporter": "python",
      "file_extension": ".py"
    },
    "kaggle": {
      "accelerator": "none",
      "dataSources": [
        {
          "sourceId": 23498,
          "sourceType": "datasetVersion",
          "datasetId": 310
        }
      ],
      "dockerImageVersionId": 30746,
      "isInternetEnabled": false,
      "language": "python",
      "sourceType": "notebook",
      "isGpuEnabled": false
    },
    "colab": {
      "name": "notebook1529bccb09",
      "provenance": []
    }
  },
  "nbformat_minor": 0,
  "nbformat": 4,
  "cells": [
    {
      "source": [
        "\n",
        "# IMPORTANT: RUN THIS CELL IN ORDER TO IMPORT YOUR KAGGLE DATA SOURCES\n",
        "# TO THE CORRECT LOCATION (/kaggle/input) IN YOUR NOTEBOOK,\n",
        "# THEN FEEL FREE TO DELETE THIS CELL.\n",
        "# NOTE: THIS NOTEBOOK ENVIRONMENT DIFFERS FROM KAGGLE'S PYTHON\n",
        "# ENVIRONMENT SO THERE MAY BE MISSING LIBRARIES USED BY YOUR\n",
        "# NOTEBOOK.\n",
        "\n",
        "import os\n",
        "import sys\n",
        "from tempfile import NamedTemporaryFile\n",
        "from urllib.request import urlopen\n",
        "from urllib.parse import unquote, urlparse\n",
        "from urllib.error import HTTPError\n",
        "from zipfile import ZipFile\n",
        "import tarfile\n",
        "import shutil\n",
        "\n",
        "CHUNK_SIZE = 40960\n",
        "DATA_SOURCE_MAPPING = 'creditcardfraud:https%3A%2F%2Fstorage.googleapis.com%2Fkaggle-data-sets%2F310%2F23498%2Fbundle%2Farchive.zip%3FX-Goog-Algorithm%3DGOOG4-RSA-SHA256%26X-Goog-Credential%3Dgcp-kaggle-com%2540kaggle-161607.iam.gserviceaccount.com%252F20240730%252Fauto%252Fstorage%252Fgoog4_request%26X-Goog-Date%3D20240730T110945Z%26X-Goog-Expires%3D259200%26X-Goog-SignedHeaders%3Dhost%26X-Goog-Signature%3D157947d38fda9a664ab7be89424ff0d17f296eef1b648850251a399459f10e61d0d1fb86bf92a2cdab37386136580553aa897f5c1e9495d1d85db1a92f5c13c46dbb00a12792c6b02762b623691ae9bb0377e0622b0c20e8928fd92301d7eab8b0d5d780c4335787650b1a33a95bf1d1b4df45f8af379929a1259057e033552b6e435eafdf32c250aef04b9d813a850e72a195798a401bf4797c477b8b2301488bfd8cd5f8fed7ba359c3bab2de5367753807f7566b4af85a155dd6b4c2faa2794be33c1292fc721e8a69e62d355be62e5acb8b81dbb9e695e445d4b85f98a5837cdc0570cbcc565552fb7cd2d1f923ce69922fd591e54fb6450e7a5cad2c4e3'\n",
        "\n",
        "KAGGLE_INPUT_PATH='/kaggle/input'\n",
        "KAGGLE_WORKING_PATH='/kaggle/working'\n",
        "KAGGLE_SYMLINK='kaggle'\n",
        "\n",
        "!umount /kaggle/input/ 2> /dev/null\n",
        "shutil.rmtree('/kaggle/input', ignore_errors=True)\n",
        "os.makedirs(KAGGLE_INPUT_PATH, 0o777, exist_ok=True)\n",
        "os.makedirs(KAGGLE_WORKING_PATH, 0o777, exist_ok=True)\n",
        "\n",
        "try:\n",
        "  os.symlink(KAGGLE_INPUT_PATH, os.path.join(\"..\", 'input'), target_is_directory=True)\n",
        "except FileExistsError:\n",
        "  pass\n",
        "try:\n",
        "  os.symlink(KAGGLE_WORKING_PATH, os.path.join(\"..\", 'working'), target_is_directory=True)\n",
        "except FileExistsError:\n",
        "  pass\n",
        "\n",
        "for data_source_mapping in DATA_SOURCE_MAPPING.split(','):\n",
        "    directory, download_url_encoded = data_source_mapping.split(':')\n",
        "    download_url = unquote(download_url_encoded)\n",
        "    filename = urlparse(download_url).path\n",
        "    destination_path = os.path.join(KAGGLE_INPUT_PATH, directory)\n",
        "    try:\n",
        "        with urlopen(download_url) as fileres, NamedTemporaryFile() as tfile:\n",
        "            total_length = fileres.headers['content-length']\n",
        "            print(f'Downloading {directory}, {total_length} bytes compressed')\n",
        "            dl = 0\n",
        "            data = fileres.read(CHUNK_SIZE)\n",
        "            while len(data) > 0:\n",
        "                dl += len(data)\n",
        "                tfile.write(data)\n",
        "                done = int(50 * dl / int(total_length))\n",
        "                sys.stdout.write(f\"\\r[{'=' * done}{' ' * (50-done)}] {dl} bytes downloaded\")\n",
        "                sys.stdout.flush()\n",
        "                data = fileres.read(CHUNK_SIZE)\n",
        "            if filename.endswith('.zip'):\n",
        "              with ZipFile(tfile) as zfile:\n",
        "                zfile.extractall(destination_path)\n",
        "            else:\n",
        "              with tarfile.open(tfile.name) as tarfile:\n",
        "                tarfile.extractall(destination_path)\n",
        "            print(f'\\nDownloaded and uncompressed: {directory}')\n",
        "    except HTTPError as e:\n",
        "        print(f'Failed to load (likely expired) {download_url} to path {destination_path}')\n",
        "        continue\n",
        "    except OSError as e:\n",
        "        print(f'Failed to load {download_url} to path {destination_path}')\n",
        "        continue\n",
        "\n",
        "print('Data source import complete.')\n"
      ],
      "metadata": {
        "id": "Mifxt1h5VQG9"
      },
      "cell_type": "code",
      "outputs": [],
      "execution_count": null
    },
    {
      "cell_type": "code",
      "source": [
        "import numpy as np\n",
        "import pandas as pd\n",
        "import matplotlib.pyplot as plt\n",
        "from sklearn.model_selection import train_test_split\n",
        "from sklearn.neighbors import KNeighborsClassifier\n",
        "from sklearn.metrics import precision_recall_fscore_support\n",
        "from sklearn.metrics import confusion_matrix\n",
        "import seaborn as sns\n",
        "from imblearn.over_sampling import SMOTE\n",
        "from scipy.stats import zscore\n",
        "from sklearn.ensemble import RandomForestClassifier"
      ],
      "metadata": {
        "_uuid": "8f2839f25d086af736a60e9eeb907d3b93b6e0e5",
        "_cell_guid": "b1076dfc-b9ad-4769-8c92-a6c4dae69d19",
        "execution": {
          "iopub.status.busy": "2024-07-27T13:49:11.597357Z",
          "iopub.execute_input": "2024-07-27T13:49:11.597964Z",
          "iopub.status.idle": "2024-07-27T13:49:15.029471Z",
          "shell.execute_reply.started": "2024-07-27T13:49:11.597909Z",
          "shell.execute_reply": "2024-07-27T13:49:15.028148Z"
        },
        "trusted": true,
        "id": "29_mawtnVQHA"
      },
      "execution_count": null,
      "outputs": []
    },
    {
      "cell_type": "code",
      "source": [
        "df = pd.read_csv(\"/kaggle/input/creditcardfraud/creditcard.csv\")"
      ],
      "metadata": {
        "execution": {
          "iopub.status.busy": "2024-07-27T13:49:15.031727Z",
          "iopub.execute_input": "2024-07-27T13:49:15.032224Z",
          "iopub.status.idle": "2024-07-27T13:49:20.396946Z",
          "shell.execute_reply.started": "2024-07-27T13:49:15.032192Z",
          "shell.execute_reply": "2024-07-27T13:49:20.395412Z"
        },
        "trusted": true,
        "id": "hpxU66RoVQHA"
      },
      "execution_count": null,
      "outputs": []
    },
    {
      "cell_type": "code",
      "source": [
        "df[\"Class\"].value_counts()"
      ],
      "metadata": {
        "execution": {
          "iopub.status.busy": "2024-07-27T13:49:20.398638Z",
          "iopub.execute_input": "2024-07-27T13:49:20.399079Z",
          "iopub.status.idle": "2024-07-27T13:49:20.426158Z",
          "shell.execute_reply.started": "2024-07-27T13:49:20.39904Z",
          "shell.execute_reply": "2024-07-27T13:49:20.424454Z"
        },
        "trusted": true,
        "id": "WJIPToMMVQHA"
      },
      "execution_count": null,
      "outputs": []
    },
    {
      "cell_type": "code",
      "source": [
        "df.duplicated().sum()"
      ],
      "metadata": {
        "execution": {
          "iopub.status.busy": "2024-07-27T14:00:55.93449Z",
          "iopub.execute_input": "2024-07-27T14:00:55.934893Z",
          "iopub.status.idle": "2024-07-27T14:00:56.897989Z",
          "shell.execute_reply.started": "2024-07-27T14:00:55.934863Z",
          "shell.execute_reply": "2024-07-27T14:00:56.896652Z"
        },
        "trusted": true,
        "id": "wavRJ_oAVQHA"
      },
      "execution_count": null,
      "outputs": []
    },
    {
      "cell_type": "code",
      "source": [
        "df.info()"
      ],
      "metadata": {
        "execution": {
          "iopub.status.busy": "2024-07-27T13:49:20.429644Z",
          "iopub.execute_input": "2024-07-27T13:49:20.430167Z",
          "iopub.status.idle": "2024-07-27T13:49:20.483345Z",
          "shell.execute_reply.started": "2024-07-27T13:49:20.430122Z",
          "shell.execute_reply": "2024-07-27T13:49:20.482113Z"
        },
        "trusted": true,
        "id": "2N0ITkUBVQHA"
      },
      "execution_count": null,
      "outputs": []
    },
    {
      "cell_type": "code",
      "source": [
        "df.describe()"
      ],
      "metadata": {
        "execution": {
          "iopub.status.busy": "2024-07-27T13:49:20.485261Z",
          "iopub.execute_input": "2024-07-27T13:49:20.485764Z",
          "iopub.status.idle": "2024-07-27T13:49:20.978495Z",
          "shell.execute_reply.started": "2024-07-27T13:49:20.485718Z",
          "shell.execute_reply": "2024-07-27T13:49:20.977053Z"
        },
        "trusted": true,
        "id": "XD1GG8O2VQHA"
      },
      "execution_count": null,
      "outputs": []
    },
    {
      "cell_type": "code",
      "source": [
        "df['Class_Jittered'] = df['Class'] + np.random.normal(0, 0.1, size=len(df))\n",
        "\n",
        "plt.figure(figsize=(10, 6))\n",
        "plt.scatter(df['Amount'], df['Class_Jittered'], c=df['Class'], cmap='bwr', alpha=0.7, edgecolors='w')\n",
        "\n",
        "plt.xlabel('Amount $|£|€')\n",
        "plt.ylabel('Class')\n",
        "plt.yticks([0, 1], ['Real', 'Fake'])\n",
        "plt.title('Scatter Plot of Transaction Amounts with Jitter')\n",
        "plt.colorbar(label='Class')\n",
        "plt.grid(True)\n",
        "\n",
        "plt.show()"
      ],
      "metadata": {
        "execution": {
          "iopub.status.busy": "2024-07-27T13:49:20.980205Z",
          "iopub.execute_input": "2024-07-27T13:49:20.980635Z",
          "iopub.status.idle": "2024-07-27T13:49:27.848296Z",
          "shell.execute_reply.started": "2024-07-27T13:49:20.980582Z",
          "shell.execute_reply": "2024-07-27T13:49:27.84703Z"
        },
        "trusted": true,
        "id": "HL0ZiNtNVQHB"
      },
      "execution_count": null,
      "outputs": []
    },
    {
      "cell_type": "code",
      "source": [
        "threshold = 3\n",
        "df['zscores'] = zscore(df['Amount'])\n",
        "df_filtered = df[(df['zscores'] < threshold) & (df['zscores'] > -threshold)]\n",
        "df = df_filtered.drop(columns=['zscores'])"
      ],
      "metadata": {
        "execution": {
          "iopub.status.busy": "2024-07-27T13:49:27.849745Z",
          "iopub.execute_input": "2024-07-27T13:49:27.850085Z",
          "iopub.status.idle": "2024-07-27T13:49:27.949168Z",
          "shell.execute_reply.started": "2024-07-27T13:49:27.850054Z",
          "shell.execute_reply": "2024-07-27T13:49:27.947596Z"
        },
        "trusted": true,
        "id": "hlAwKsxaVQHB"
      },
      "execution_count": null,
      "outputs": []
    },
    {
      "cell_type": "code",
      "source": [
        "df['Class_Jittered'] = df['Class'] + np.random.normal(0, 0.1, size=len(df))\n",
        "\n",
        "plt.figure(figsize=(10, 6))\n",
        "plt.scatter(df['Time'], df['Class_Jittered'], c=df['Class'], cmap='bwr', alpha=0.7, edgecolors='w')\n",
        "\n",
        "plt.xlabel('Time')\n",
        "plt.ylabel('Class')\n",
        "plt.yticks([0, 1], ['Real', 'Fake'])\n",
        "plt.title('Scatter Plot of Transaction Time with Jitter')\n",
        "plt.colorbar(label='Class')\n",
        "plt.grid(True)\n",
        "\n",
        "plt.show()"
      ],
      "metadata": {
        "execution": {
          "iopub.status.busy": "2024-07-27T13:49:27.95109Z",
          "iopub.execute_input": "2024-07-27T13:49:27.951567Z",
          "iopub.status.idle": "2024-07-27T13:49:34.53265Z",
          "shell.execute_reply.started": "2024-07-27T13:49:27.951524Z",
          "shell.execute_reply": "2024-07-27T13:49:34.531358Z"
        },
        "trusted": true,
        "id": "3DV29cL2VQHB"
      },
      "execution_count": null,
      "outputs": []
    },
    {
      "cell_type": "code",
      "source": [
        "def normalize_data(X):\n",
        "    return (X - X.min()) / (X.max() - X.min())\n"
      ],
      "metadata": {
        "execution": {
          "iopub.status.busy": "2024-07-27T13:49:34.534561Z",
          "iopub.execute_input": "2024-07-27T13:49:34.535031Z",
          "iopub.status.idle": "2024-07-27T13:49:34.541805Z",
          "shell.execute_reply.started": "2024-07-27T13:49:34.534992Z",
          "shell.execute_reply": "2024-07-27T13:49:34.540463Z"
        },
        "trusted": true,
        "id": "yh2iyI5XVQHB"
      },
      "execution_count": null,
      "outputs": []
    },
    {
      "cell_type": "code",
      "source": [
        "\n",
        "X_features = df.drop(columns=[\"Class\"])\n",
        "Y_label = df[\"Class\"]\n",
        "\n",
        "X_train, X_test, y_train, y_test = train_test_split(X_features, Y_label, test_size=0.2, random_state=42)\n",
        "smote = SMOTE(sampling_strategy='auto', random_state=42)\n",
        "X_features, Y_label = smote.fit_resample(X_train, y_train)\n",
        "X_features = normalize_data(X_features)\n",
        "#X_features = normalise_data(X_features)\n",
        "X_features_train, X_features_test, y_label_train, y_label_test = train_test_split(X_features, Y_label, train_size=.8, random_state=42)"
      ],
      "metadata": {
        "execution": {
          "iopub.status.busy": "2024-07-27T13:49:34.548009Z",
          "iopub.execute_input": "2024-07-27T13:49:34.548518Z",
          "iopub.status.idle": "2024-07-27T13:49:35.753545Z",
          "shell.execute_reply.started": "2024-07-27T13:49:34.548476Z",
          "shell.execute_reply": "2024-07-27T13:49:35.7523Z"
        },
        "trusted": true,
        "id": "y_Yt14SkVQHB"
      },
      "execution_count": null,
      "outputs": []
    },
    {
      "cell_type": "code",
      "source": [
        "knn = KNeighborsClassifier(3, weights=\"distance\", algorithm=\"auto\")\n",
        "knn.fit(X_features_train, y_label_train)"
      ],
      "metadata": {
        "execution": {
          "iopub.status.busy": "2024-07-27T14:04:31.154242Z",
          "iopub.execute_input": "2024-07-27T14:04:31.154719Z",
          "iopub.status.idle": "2024-07-27T14:04:31.284071Z",
          "shell.execute_reply.started": "2024-07-27T14:04:31.154674Z",
          "shell.execute_reply": "2024-07-27T14:04:31.282855Z"
        },
        "trusted": true,
        "id": "K2eW3zOcVQHB"
      },
      "execution_count": null,
      "outputs": []
    },
    {
      "cell_type": "code",
      "source": [
        "print(len(X_features_train))\n",
        "print(len(X_features_test))\n",
        "print(X_features_test)"
      ],
      "metadata": {
        "execution": {
          "iopub.status.busy": "2024-07-27T14:04:33.217339Z",
          "iopub.execute_input": "2024-07-27T14:04:33.217891Z",
          "iopub.status.idle": "2024-07-27T14:04:33.25792Z",
          "shell.execute_reply.started": "2024-07-27T14:04:33.217846Z",
          "shell.execute_reply": "2024-07-27T14:04:33.256533Z"
        },
        "trusted": true,
        "id": "DrZ0xLcHVQHB"
      },
      "execution_count": null,
      "outputs": []
    },
    {
      "cell_type": "code",
      "source": [
        "predictions = knn.predict(X_features_test)"
      ],
      "metadata": {
        "execution": {
          "iopub.status.busy": "2024-07-27T14:04:38.551931Z",
          "iopub.execute_input": "2024-07-27T14:04:38.552759Z",
          "iopub.status.idle": "2024-07-27T14:06:09.567983Z",
          "shell.execute_reply.started": "2024-07-27T14:04:38.552724Z",
          "shell.execute_reply": "2024-07-27T14:06:09.566712Z"
        },
        "trusted": true,
        "id": "lDU0jO-8VQHC"
      },
      "execution_count": null,
      "outputs": []
    },
    {
      "cell_type": "code",
      "source": [
        "scores = knn.score(X_features_test, y_label_test)"
      ],
      "metadata": {
        "execution": {
          "iopub.status.busy": "2024-07-27T14:06:26.885447Z",
          "iopub.execute_input": "2024-07-27T14:06:26.885977Z",
          "iopub.status.idle": "2024-07-27T14:07:57.993987Z",
          "shell.execute_reply.started": "2024-07-27T14:06:26.885939Z",
          "shell.execute_reply": "2024-07-27T14:07:57.99229Z"
        },
        "trusted": true,
        "id": "P_NERr6bVQHC"
      },
      "execution_count": null,
      "outputs": []
    },
    {
      "cell_type": "code",
      "source": [
        "scores"
      ],
      "metadata": {
        "execution": {
          "iopub.status.busy": "2024-07-27T14:08:02.614388Z",
          "iopub.execute_input": "2024-07-27T14:08:02.615021Z",
          "iopub.status.idle": "2024-07-27T14:08:02.625496Z",
          "shell.execute_reply.started": "2024-07-27T14:08:02.61497Z",
          "shell.execute_reply": "2024-07-27T14:08:02.623788Z"
        },
        "trusted": true,
        "id": "6ERYStwxVQHC"
      },
      "execution_count": null,
      "outputs": []
    },
    {
      "cell_type": "code",
      "source": [
        "prec_recall_fscore_supp = precision_recall_fscore_support(y_label_test, predictions, labels=df[\"Class\"].unique())"
      ],
      "metadata": {
        "execution": {
          "iopub.status.busy": "2024-07-27T14:08:09.123386Z",
          "iopub.execute_input": "2024-07-27T14:08:09.124422Z",
          "iopub.status.idle": "2024-07-27T14:08:09.17522Z",
          "shell.execute_reply.started": "2024-07-27T14:08:09.124378Z",
          "shell.execute_reply": "2024-07-27T14:08:09.174077Z"
        },
        "trusted": true,
        "id": "xEqVsG87VQHC"
      },
      "execution_count": null,
      "outputs": []
    },
    {
      "cell_type": "code",
      "source": [
        "cm = confusion_matrix(y_label_test, predictions, labels=[1, 0])\n",
        "plt.figure(figsize=(8, 6))\n",
        "sns.heatmap(cm, annot=True, fmt='d', cmap='Reds', xticklabels=['Predicted Fake', 'Predicted Real'], yticklabels=['Actual Fake', 'Actual Real'])\n",
        "plt.xlabel('Predicted Label')\n",
        "plt.ylabel('True Label')\n",
        "plt.title('Confusion Matrix Heatmap')\n",
        "plt.show()"
      ],
      "metadata": {
        "execution": {
          "iopub.status.busy": "2024-07-27T14:08:09.784929Z",
          "iopub.execute_input": "2024-07-27T14:08:09.785335Z",
          "iopub.status.idle": "2024-07-27T14:08:10.229986Z",
          "shell.execute_reply.started": "2024-07-27T14:08:09.785306Z",
          "shell.execute_reply": "2024-07-27T14:08:10.22861Z"
        },
        "trusted": true,
        "id": "kNmpjihKVQHC"
      },
      "execution_count": null,
      "outputs": []
    },
    {
      "cell_type": "code",
      "source": [
        "from sklearn.metrics import accuracy_score, confusion_matrix, roc_auc_score, roc_curve\n",
        "def plot_roc_curve(true_y, y_prob):\n",
        "    fpr, tpr, thresholds = roc_curve(true_y, y_prob)\n",
        "    plt.plot(fpr, tpr)\n",
        "    plt.title(\"Credit Card Fraudulent detection ROC Curve\")\n",
        "    plt.xlabel('False Positive Rate')\n",
        "    plt.ylabel('True Positive Rate')\n",
        "    plt.show()"
      ],
      "metadata": {
        "execution": {
          "iopub.status.busy": "2024-07-27T14:08:16.787514Z",
          "iopub.execute_input": "2024-07-27T14:08:16.788653Z",
          "iopub.status.idle": "2024-07-27T14:08:16.795761Z",
          "shell.execute_reply.started": "2024-07-27T14:08:16.788611Z",
          "shell.execute_reply": "2024-07-27T14:08:16.794363Z"
        },
        "trusted": true,
        "id": "BYKx4PgmVQHC"
      },
      "execution_count": null,
      "outputs": []
    },
    {
      "cell_type": "markdown",
      "source": [
        "https://www.w3schools.com/python/python_ml_auc_roc.asp"
      ],
      "metadata": {
        "id": "FdquHpLjVQHC"
      }
    },
    {
      "cell_type": "code",
      "source": [
        "plot_roc_curve(y_label_test, predictions)"
      ],
      "metadata": {
        "execution": {
          "iopub.status.busy": "2024-07-27T14:08:21.684868Z",
          "iopub.execute_input": "2024-07-27T14:08:21.685334Z",
          "iopub.status.idle": "2024-07-27T14:08:21.92244Z",
          "shell.execute_reply.started": "2024-07-27T14:08:21.685301Z",
          "shell.execute_reply": "2024-07-27T14:08:21.921274Z"
        },
        "trusted": true,
        "id": "IW_aoouqVQHC"
      },
      "execution_count": null,
      "outputs": []
    },
    {
      "cell_type": "code",
      "source": [
        "rfc = RandomForestClassifier(n_estimators=300, max_depth=10, max_features=\"log2\", bootstrap=True, random_state=42)\n",
        "rfc.fit(X_features_train, y_label_train)"
      ],
      "metadata": {
        "execution": {
          "iopub.status.busy": "2024-07-27T13:52:40.974829Z",
          "iopub.execute_input": "2024-07-27T13:52:40.975177Z",
          "iopub.status.idle": "2024-07-27T13:59:44.338925Z",
          "shell.execute_reply.started": "2024-07-27T13:52:40.975146Z",
          "shell.execute_reply": "2024-07-27T13:59:44.337666Z"
        },
        "trusted": true,
        "id": "M1ar56pXVQHC"
      },
      "execution_count": null,
      "outputs": []
    },
    {
      "cell_type": "code",
      "source": [
        "rfc_pred = rfc.predict(X_features_test)"
      ],
      "metadata": {
        "execution": {
          "iopub.status.busy": "2024-07-27T13:59:44.340649Z",
          "iopub.execute_input": "2024-07-27T13:59:44.341122Z",
          "iopub.status.idle": "2024-07-27T13:59:46.321916Z",
          "shell.execute_reply.started": "2024-07-27T13:59:44.341073Z",
          "shell.execute_reply": "2024-07-27T13:59:46.320594Z"
        },
        "trusted": true,
        "id": "MMQdUMO4VQHC"
      },
      "execution_count": null,
      "outputs": []
    },
    {
      "cell_type": "code",
      "source": [
        "plot_roc_curve(y_label_test, rfc_pred)"
      ],
      "metadata": {
        "execution": {
          "iopub.status.busy": "2024-07-27T13:59:46.323333Z",
          "iopub.execute_input": "2024-07-27T13:59:46.323672Z",
          "iopub.status.idle": "2024-07-27T13:59:46.605168Z",
          "shell.execute_reply.started": "2024-07-27T13:59:46.323644Z",
          "shell.execute_reply": "2024-07-27T13:59:46.603929Z"
        },
        "trusted": true,
        "id": "NUxWJWbuVQHC"
      },
      "execution_count": null,
      "outputs": []
    },
    {
      "cell_type": "code",
      "source": [
        "\"\"\"rfc.score(X_features_test, y_label_test)\"\"\""
      ],
      "metadata": {
        "execution": {
          "iopub.status.busy": "2024-07-27T13:59:46.607144Z",
          "iopub.execute_input": "2024-07-27T13:59:46.607577Z",
          "iopub.status.idle": "2024-07-27T13:59:46.616584Z",
          "shell.execute_reply.started": "2024-07-27T13:59:46.607544Z",
          "shell.execute_reply": "2024-07-27T13:59:46.615088Z"
        },
        "trusted": true,
        "id": "1xrq2s2hVQHC"
      },
      "execution_count": null,
      "outputs": []
    },
    {
      "cell_type": "code",
      "source": [
        "\"\"\"from sklearn.model_selection import cross_val_score\n",
        "import numpy as np\n",
        "cv_scores = cross_val_score(rfc, X_features_train, y_label_train, cv=5, scoring='accuracy')\n",
        "print(f\"Cross-Validation Accuracy Scores: {cv_scores}\")\n",
        "print(f\"Mean Accuracy: {np.mean(cv_scores)}\")\n",
        "\"\"\""
      ],
      "metadata": {
        "execution": {
          "iopub.status.busy": "2024-07-27T13:59:46.618217Z",
          "iopub.execute_input": "2024-07-27T13:59:46.618635Z",
          "iopub.status.idle": "2024-07-27T13:59:46.632344Z",
          "shell.execute_reply.started": "2024-07-27T13:59:46.618603Z",
          "shell.execute_reply": "2024-07-27T13:59:46.630636Z"
        },
        "trusted": true,
        "id": "4PJM2kI3VQHD"
      },
      "execution_count": null,
      "outputs": []
    },
    {
      "cell_type": "code",
      "source": [
        "\"\"\"cm = confusion_matrix(y_label_test, rfc_pred, labels=[1, 0])\n",
        "plt.figure(figsize=(8, 6))\n",
        "sns.heatmap(cm, annot=True, fmt='d', cmap='Reds', xticklabels=['Predicted Fake', 'Predicted Real'], yticklabels=['Actual Fake', 'Actual Real'])\n",
        "\n",
        "# Customize the plot\n",
        "plt.xlabel('Predicted Label')\n",
        "plt.ylabel('True Label')\n",
        "plt.title('Confusion Matrix Heatmap')\n",
        "plt.show()\n",
        "\"\"\""
      ],
      "metadata": {
        "execution": {
          "iopub.status.busy": "2024-07-27T13:59:46.633846Z",
          "iopub.execute_input": "2024-07-27T13:59:46.634211Z",
          "iopub.status.idle": "2024-07-27T13:59:46.652878Z",
          "shell.execute_reply.started": "2024-07-27T13:59:46.634182Z",
          "shell.execute_reply": "2024-07-27T13:59:46.651189Z"
        },
        "trusted": true,
        "id": "6teLIJosVQHD"
      },
      "execution_count": null,
      "outputs": []
    }
  ]
}